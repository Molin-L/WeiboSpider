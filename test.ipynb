{
 "cells": [
  {
   "cell_type": "code",
   "execution_count": 1,
   "metadata": {},
   "outputs": [],
   "source": [
    "from weibo_spider_helper import *\n",
    "import pandas as pd"
   ]
  },
  {
   "cell_type": "code",
   "execution_count": null,
   "metadata": {},
   "outputs": [],
   "source": [
    "test_posts = weibo_spider_helper.load_csv('data/testset/posts.csv').iloc[:, 1:]\n",
    "test_new_posts = weibo_spider_helper.load_csv('data/testset/raw_posts.csv')\n",
    "test_new_posts['is_deleted'] = len(test_new_posts)*['']\n",
    "test_new_posts['deleted_timestamp'] = len(test_new_posts)*['']\n",
    "test_new_posts['local_imgs'] = len(test_new_posts)*['']\n",
    "\n",
    "# Test group 1: Check update\n",
    "result, new_posts = weibo_spider_helper.tag_posts(test_new_posts, test_posts)\n",
    "result.to_csv('data/testset/result_posts.csv', index=False)\n",
    "\n",
    "result = weibo_spider_helper.update_local_posts(test_new_posts, test_posts)"
   ]
  }
 ],
 "metadata": {
  "kernelspec": {
   "display_name": "Python 3.8.6 64-bit ('tf24': conda)",
   "name": "python386jvsc74a57bd0391c4fc8df92ef9c8b45da8c10a6795debd85d9b0919d38be203a213795ad2cb"
  },
  "language_info": {
   "codemirror_mode": {
    "name": "ipython",
    "version": 3
   },
   "file_extension": ".py",
   "mimetype": "text/x-python",
   "name": "python",
   "nbconvert_exporter": "python",
   "pygments_lexer": "ipython3",
   "version": "3.8.6-final"
  }
 },
 "nbformat": 4,
 "nbformat_minor": 4
}