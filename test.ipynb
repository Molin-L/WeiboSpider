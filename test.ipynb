{
 "cells": [
  {
   "cell_type": "code",
   "execution_count": 1,
   "metadata": {},
   "outputs": [],
   "source": [
    "from weibo_spider_helper import *\n",
    "import pandas as pd"
   ]
  },
  {
   "cell_type": "code",
   "execution_count": 8,
   "metadata": {},
   "outputs": [],
   "source": [
    "uid = \"6170194660\"\n",
    "posts = read_weibo_page((uid, 2))"
   ]
  },
  {
   "cell_type": "code",
   "execution_count": 9,
   "metadata": {},
   "outputs": [],
   "source": [
    "weibos = posts[0]"
   ]
  },
  {
   "cell_type": "code",
   "execution_count": 10,
   "metadata": {},
   "outputs": [],
   "source": [
    "df = pd.DataFrame.from_dict(weibos)"
   ]
  },
  {
   "cell_type": "code",
   "execution_count": 11,
   "metadata": {},
   "outputs": [
    {
     "name": "stdout",
     "output_type": "stream",
     "text": [
      "      user_id   screen_name                id  \\\n",
      "0  6170194660  Drommeelsker  4575717369053318   \n",
      "1  6170194660  Drommeelsker  4575462389193792   \n",
      "2  6170194660  Drommeelsker  4573410568446503   \n",
      "3  6170194660  Drommeelsker  4566159364460684   \n",
      "4  6170194660  Drommeelsker  4565512690603327   \n",
      "5  6170194660  Drommeelsker  4564301097992320   \n",
      "6  6170194660  Drommeelsker  4561634973188694   \n",
      "7  6170194660  Drommeelsker  4556455846350811   \n",
      "8  6170194660  Drommeelsker  4552913348985312   \n",
      "9  6170194660  Drommeelsker  4544059065243431   \n",
      "\n",
      "                                        post_content pics location  \\\n",
      "0             “如果能够再好好将再见认真去说，或许就不会用漫长的时间去思念这样一个人。”                  \n",
      "1                                         好！女人都是大宝贝                  \n",
      "2  人类从婴儿时期成长到心智成熟的成年人所花费的时间太长了，伴随着幼稚不理智行为的“青少年时期”...                 \n",
      "3                流水便随春远，行云终与谁同。酒醒长恨锦屏空。相寻梦里路，飞雨落花中。                  \n",
      "4  我20岁了我还处于concrete operational stage 我的生活中充满了他妈...                 \n",
      "5  我文盲到什么程度呢？中老年人朋友圈转发的某些治病偏方生活妙招 虽然我抱有怀疑的态度但是我分辨...                 \n",
      "6                               要当一秒钟的英雄还是一辈子的pussy                  \n",
      "7  ðV  Ñ`  b  _  EN  v   N  *N  î    ÿ  (W  ...                 \n",
      "8        Psychology,Neuroscience&Behaviour 你看我像不像你爹                  \n",
      "9           Den største ting i verden er kjærlighet                  \n",
      "\n",
      "                       created_at     device  like_count  comments_count  \\\n",
      "0  Fri Nov 27 03:38:16 +0800 2020  iPhone客户端           0               0   \n",
      "1  Thu Nov 26 10:45:04 +0800 2020  iPhone客户端           0               0   \n",
      "2  Fri Nov 20 18:51:52 +0800 2020  iPhone客户端           0               0   \n",
      "3  Sat Oct 31 18:38:10 +0800 2020  iPhone客户端           0               0   \n",
      "4  Thu Oct 29 23:48:31 +0800 2020  iPhone客户端           0               0   \n",
      "5  Mon Oct 26 15:34:04 +0800 2020  iPhone客户端           0               0   \n",
      "6  Mon Oct 19 06:59:50 +0800 2020  iPhone客户端           0               0   \n",
      "7  Sun Oct 04 23:59:51 +0800 2020  iPhone客户端           0               0   \n",
      "8  Fri Sep 25 05:23:14 +0800 2020  iPhone客户端           1               0   \n",
      "9  Mon Aug 31 18:59:28 +0800 2020  iPhone客户端           0               0   \n",
      "\n",
      "   reposts_count at_users  \n",
      "0              0           \n",
      "1              0           \n",
      "2              0           \n",
      "3              0           \n",
      "4              0           \n",
      "5              0           \n",
      "6              0           \n",
      "7              0           \n",
      "8              0           \n",
      "9              0           \n"
     ]
    }
   ],
   "source": [
    "print(df)"
   ]
  },
  {
   "cell_type": "code",
   "execution_count": null,
   "metadata": {},
   "outputs": [],
   "source": []
  }
 ],
 "metadata": {
  "kernelspec": {
   "display_name": "Python 3",
   "language": "python",
   "name": "python3"
  },
  "language_info": {
   "codemirror_mode": {
    "name": "ipython",
    "version": 3
   },
   "file_extension": ".py",
   "mimetype": "text/x-python",
   "name": "python",
   "nbconvert_exporter": "python",
   "pygments_lexer": "ipython3",
   "version": "3.8.6"
  }
 },
 "nbformat": 4,
 "nbformat_minor": 4
}
